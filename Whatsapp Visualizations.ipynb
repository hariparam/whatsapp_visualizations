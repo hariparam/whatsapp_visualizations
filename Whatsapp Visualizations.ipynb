{
 "cells": [
  {
   "cell_type": "code",
   "execution_count": null,
   "metadata": {
    "collapsed": false,
    "deletable": true,
    "editable": true
   },
   "outputs": [],
   "source": [
    "# !pip install seaborn\n",
    "# !pip install bokeh\n",
    "# !pip install nltk\n",
    "# !pip install wordcloud\n",
    "# !pip install tqdm\n",
    "# !pip install emoji\n"
   ]
  },
  {
   "cell_type": "code",
   "execution_count": null,
   "metadata": {
    "collapsed": false,
    "deletable": true,
    "editable": true
   },
   "outputs": [],
   "source": [
    "import pandas as pd\n",
    "import matplotlib.pyplot as plt\n",
    "import seaborn as sns\n",
    "import datetime\n",
    "#import bokeh\n",
    "import nltk\n",
    "#import numpy as np\n",
    "from nltk.tokenize import RegexpTokenizer\n",
    "from wordcloud import WordCloud\n",
    "import string\n",
    "from os import path\n",
    "from tqdm import tqdm\n",
    "%matplotlib inline\n",
    "import random"
   ]
  },
  {
   "cell_type": "code",
   "execution_count": null,
   "metadata": {
    "collapsed": false,
    "deletable": true,
    "editable": true
   },
   "outputs": [],
   "source": [
    "nltk.download('punkt')\n",
    "nltk.download(\"stopwords\")"
   ]
  },
  {
   "cell_type": "code",
   "execution_count": null,
   "metadata": {
    "collapsed": true,
    "deletable": true,
    "editable": true
   },
   "outputs": [],
   "source": [
    "DaysofWeeks=[ 'Monday', 'Tuesday', 'Wednesday', 'Thursday', 'Friday', 'Saturday', 'Sunday']"
   ]
  },
  {
   "cell_type": "code",
   "execution_count": null,
   "metadata": {
    "collapsed": true,
    "deletable": true,
    "editable": true
   },
   "outputs": [],
   "source": [
    "tokenizer = RegexpTokenizer(r'\\w+')"
   ]
  },
  {
   "cell_type": "code",
   "execution_count": null,
   "metadata": {
    "collapsed": true,
    "deletable": true,
    "editable": true
   },
   "outputs": [],
   "source": [
    "def check_date(date):\n",
    "    X=dict()\n",
    "    try:\n",
    "        if '/' in date and ':' in date and ',' in date:\n",
    "            X['Date']=date.split(',')[0]\n",
    "            X['time']=date.split(',')[1][1:]\n",
    "            X['Day']=int(X['Date'].split('/')[1])\n",
    "            X['Month']=int(X['Date'].split('/')[0])\n",
    "            X['Year']=int(X['Date'].split('/')[2])\n",
    "            #X['Weekday']= DaysofWeeks[(datetime.datetime(X['Year'],X['Month'],X['Day']).weekday())]\n",
    "            if date.split()[2]=='AM':\n",
    "                X['hour']=int(X['time'].split(':')[0])\n",
    "            elif date.split()[2]=='PM':\n",
    "                X['hour']=int(X['time'].split(':')[0])+12\n",
    "            X['mins']=int(X['time'].split(':')[1][:2])\n",
    "            return X\n",
    "    except Exception as e:\n",
    "        X=dict()\n",
    "    return X\n",
    "    "
   ]
  },
  {
   "cell_type": "code",
   "execution_count": null,
   "metadata": {
    "collapsed": false,
    "deletable": true,
    "editable": true
   },
   "outputs": [],
   "source": [
    "def get_sender(line):\n",
    "    if ':' in line:\n",
    "        if len(line.split(':')[0])<26:\n",
    "            return line.split(':')[0]\n",
    "    return ''"
   ]
  },
  {
   "cell_type": "code",
   "execution_count": null,
   "metadata": {
    "collapsed": true,
    "deletable": true,
    "editable": true
   },
   "outputs": [],
   "source": [
    "col_list=['Month', 'Day', 'Year', 'Date', 'hour', 'mins', 'time', 'sender', 'text']\n",
    "chat=pd.DataFrame(columns=col_list)"
   ]
  },
  {
   "cell_type": "code",
   "execution_count": null,
   "metadata": {
    "collapsed": false,
    "deletable": true,
    "editable": true
   },
   "outputs": [],
   "source": [
    "num_messages=0\n",
    "with open(\"<path to file>\",'r',encoding=\"utf8\") as file:\n",
    "    line = file.readline().encode('utf-8').decode('utf-8-sig')\n",
    "    while line:\n",
    "    #for i in tqdm(range(42000)):\n",
    "        try:\n",
    "            date_split=line.split(\" - \")\n",
    "            #print(date_split)\n",
    "            if len(date_split)>0:\n",
    "                X=check_date(date_split[0])\n",
    "                if len(X)>1:\n",
    "                    date_split[1]\n",
    "                    X['sender']=get_sender(date_split[1])\n",
    "                    if len(X['sender']):\n",
    "                        X['text']=date_split[1][len(X['sender'])+2:]\n",
    "                    else:\n",
    "                        X['text']=[date_split[1]]\n",
    "                    #for key in X:\n",
    "                    chat.loc[num_messages]=X\n",
    "                    num_messages=num_messages+1\n",
    "                else:\n",
    "                    chat.iloc[-1]['text']+(line)\n",
    "        except Exception as e:\n",
    "            print (e)\n",
    "        line = file.readline()"
   ]
  },
  {
   "cell_type": "code",
   "execution_count": null,
   "metadata": {
    "collapsed": false,
    "deletable": true,
    "editable": true,
    "scrolled": true
   },
   "outputs": [],
   "source": [
    "chat.head(5)"
   ]
  },
  {
   "cell_type": "markdown",
   "metadata": {
    "collapsed": true,
    "deletable": true,
    "editable": true
   },
   "source": [
    "TO PLOT EVERYTHING IN MATPLOTLIB: SEABORN: BOKEH"
   ]
  },
  {
   "cell_type": "code",
   "execution_count": null,
   "metadata": {
    "collapsed": false,
    "deletable": true,
    "editable": true
   },
   "outputs": [],
   "source": [
    "df=pd.DataFrame(chat.groupby(['sender']).size().rename('counts'))\n",
    "df=df.reset_index()\n",
    "df=df.sample(frac=1).reset_index(drop=True)\n",
    "filename=\"<include file name>\"\n",
    "df.plot(x='sender', y= 'counts',kind='bar',title=(\"Number of messages on \"+filename+\" : \"+chat_start+\"-\"+chat_end), figsize=(15,10))\n",
    "plt.savefig(\"count_bar.jpg\")\n",
    "plt.figure(figsize=(15,15))\n",
    "patches, texts = plt.pie(\n",
    "    # using data total)arrests\n",
    "    df.counts,\n",
    "    # with the labels being officer names\n",
    "    labels=df.sender,\n",
    "    # with no shadows\n",
    "    shadow=False,\n",
    "    # with the percent listed as a fraction\n",
    "    )\n",
    "# plt.legend(patches, F1.sender, bbox_to_anchor=(-0.1, 1.),\n",
    "#            fontsize=18)\n",
    "plt.tight_layout()\n",
    "plt.savefig('piechart.jpg', bbox_inches='tight')"
   ]
  },
  {
   "cell_type": "code",
   "execution_count": null,
   "metadata": {
    "collapsed": false,
    "deletable": true,
    "editable": true
   },
   "outputs": [],
   "source": [
    "#pandas in-built\n",
    "chat_start= chat.iloc[0]['Date']\n",
    "chat_end=chat.iloc[-1]['Date']\n",
    "weeks=int((datetime.datetime(int(chat.iloc[-1]['Year']),int(chat.iloc[-1]['Month']),int(chat.iloc[-1]['Day'])) - datetime.datetime(int(chat.iloc[0]['Year']),int(chat.iloc[0]['Month']),int(chat.iloc[0]['Day']))).days/7)"
   ]
  },
  {
   "cell_type": "code",
   "execution_count": null,
   "metadata": {
    "collapsed": false,
    "deletable": true,
    "editable": true
   },
   "outputs": [],
   "source": [
    "df=pd.DataFrame(chat.groupby(['Day','Month']).size().rename('counts'))\n",
    "df=df.reset_index()\n",
    "\n",
    "# fig=plt.figure(figsize=(20,10))\n",
    "# ax1=fig.add_subplot(211)\n",
    "gridkw = dict(height_ratios=[4, 1])\n",
    "fig, (ax1, ax2) = plt.subplots(2, 1, gridspec_kw=gridkw,figsize=(20,15)) \n",
    "\n",
    "result = df.pivot(index='Month', columns='Day', values='counts')\n",
    "sns.heatmap(result, annot=True, fmt=\"g\", cmap='viridis', ax=ax1, cbar_kws={\"orientation\": \"horizontal\"})\n",
    "ax1.set_title(\"Monthly heatmap\")\n",
    "plt.title(\"Heatmap over the days of the month\")\n",
    "df=pd.DataFrame(chat.groupby(['Day']).size().rename('counts'))\n",
    "df=df.reset_index()\n",
    "#ax2=fig.add_subplot(212)\n",
    "df.plot(x=['Day'], y= 'counts',kind='bar',title=(\"Group \"+chat_start+\"-\"+chat_end),ax=ax2)\n",
    "plt.savefig('monthly_map.jpg')\n",
    "plt.show()\n"
   ]
  },
  {
   "cell_type": "code",
   "execution_count": null,
   "metadata": {
    "collapsed": false,
    "deletable": true,
    "editable": true
   },
   "outputs": [],
   "source": [
    "chat['Weekday']= chat.apply(lambda X: (datetime.datetime(int(X['Year']),int(X['Month']),int(X['Day'])).weekday()), axis=1)\n",
    "\n",
    "df=pd.DataFrame(chat.groupby(['Weekday']).size().rename('counts'))\n",
    "df=df.reset_index()\n",
    "df['counts']=df.counts.apply(lambda x: x/weeks)\n",
    "fig = plt.figure(figsize=(15,5))\n",
    "ax = plt.subplot(111)\n",
    "plt.xticks(df.Weekday, DaysofWeeks)\n",
    "ax.bar(df.Weekday, df.counts)\n",
    "plt.title(\"Average message count for each day of the week\")\n",
    "plt.savefig(\"week_count.jpg\")\n",
    "plt.show()\n",
    "#F4.plot(x='Weekday', y= 'counts',kind='bar',label=DaysofWeeks, title=(\"r/unitedwesend \"+chat_start+\"-\"+chat_end),figsize=(15,10))"
   ]
  },
  {
   "cell_type": "code",
   "execution_count": null,
   "metadata": {
    "collapsed": false,
    "deletable": true,
    "editable": true
   },
   "outputs": [],
   "source": [
    "df=pd.DataFrame(chat.groupby(['Weekday','hour']).size().rename('counts'))\n",
    "df=df.reset_index()\n",
    "\n",
    "# fig=plt.figure()\n",
    "# ax1=fig.add_subplot(211)\n",
    "\n",
    "gridkw = dict(height_ratios=[4, 1])\n",
    "fig, (ax1, ax2) = plt.subplots(2, 1, gridspec_kw=gridkw,figsize=(20,15)) \n",
    "#plt.yticks(F6.Weekday, DaysofWeeks)\n",
    "result = df.pivot(index='Weekday', columns='hour', values='counts')\n",
    "sns.heatmap(result, annot=True,yticklabels=DaysofWeeks, fmt=\"g\", ax=ax1, cbar_kws={\"orientation\": \"horizontal\"})\n",
    "ax1.set_title(\"weekly heatmap\")\n",
    "df=pd.DataFrame(chat.groupby(['hour']).size().rename('counts'))\n",
    "df=df.reset_index()\n",
    "#ax2=fig.add_subplot(212)\n",
    "df.plot(x='hour', y= 'counts',kind='bar',ax=ax2)\n",
    "plt.tight_layout()\n",
    "plt.savefig(\"weekly_heat.jpg\")\n",
    "plt.show()"
   ]
  },
  {
   "cell_type": "code",
   "execution_count": null,
   "metadata": {
    "collapsed": false,
    "deletable": true,
    "editable": true,
    "scrolled": false
   },
   "outputs": [],
   "source": [
    "chat['text_len'] = chat['text'].map(lambda x: len(x))\n",
    "\n",
    "def get_stats(group):\n",
    "    return {'max': group.max(), 'count': group.count(), 'sum': group.sum(),'mean':group.mean()}\n",
    "\n",
    "df=pd.DataFrame(chat['text_len'].groupby(chat['sender']).apply(get_stats).unstack())\n",
    "df=df.reset_index()"
   ]
  },
  {
   "cell_type": "code",
   "execution_count": null,
   "metadata": {
    "collapsed": false,
    "deletable": true,
    "editable": true
   },
   "outputs": [],
   "source": [
    "fig = plt.figure(figsize=(20,15))\n",
    "\n",
    "ax = fig.add_subplot(411)\n",
    "ax2 = fig.add_subplot(412)\n",
    "ax3 = fig.add_subplot(413)\n",
    "ax4 = fig.add_subplot(414)\n",
    "ax.xaxis.set_visible(False)\n",
    "ax2.xaxis.set_visible(False)\n",
    "ax3.xaxis.set_visible(False)\n",
    "\n",
    "ax.title.set_size(30)\n",
    "for label in (ax4.get_xticklabels()+ax.get_yticklabels()+ax2.get_yticklabels()+ax3.get_yticklabels()+ax4.get_yticklabels()):\n",
    "    label.set_fontname('Arial')\n",
    "    label.set_fontsize(15)\n",
    "df['count'].plot(kind='bar', color='red', ax=ax,title='number of messages') #, width=0.25)\n",
    "df['max'].plot(kind='bar', color='blue', ax=ax2,title='max message length')#, width=0.25)\n",
    "df['mean'].plot(kind='bar', color='green', ax=ax3,title='average message length')#, width=0.25)\n",
    "df['sum'].plot(kind='bar', color='yellow', ax=ax4,title='total charactes typed')#, width=0.25)\n",
    "ax.title.set_size(20)\n",
    "ax2.title.set_size(20)\n",
    "ax3.title.set_size(20)\n",
    "ax4.title.set_size(20)\n",
    "ax4.set_xticklabels(df.sender[:],ha='right')\n",
    "plt.savefig('stats.jpg')\n",
    "plt.show()"
   ]
  },
  {
   "cell_type": "code",
   "execution_count": null,
   "metadata": {
    "collapsed": false,
    "deletable": true,
    "editable": true
   },
   "outputs": [],
   "source": [
    "flat_list ='' \n",
    "for item in chat.loc[chat.text != '<Media omitted>\\n'].text:\n",
    "    if not isinstance(item,list):\n",
    "        flat_list=flat_list+item\n",
    "words=tokenizer.tokenize(flat_list)\n",
    "count=set(words)\n",
    "dic=nltk.FreqDist(words)\n",
    "fig = plt.figure(figsize=(20,10))\n",
    "ax=fig.add_subplot(111)\n",
    "for label in (ax.get_xticklabels()+ax.get_yticklabels()):\n",
    "    label.set_fontname('Arial')\n",
    "    label.set_fontsize(15)\n",
    "nltk.FreqDist(words).plot(50, cumulative=False)\n",
    "fig.savefig('word_count.jpg')"
   ]
  },
  {
   "cell_type": "code",
   "execution_count": null,
   "metadata": {
    "collapsed": false,
    "deletable": true,
    "editable": true
   },
   "outputs": [],
   "source": [
    "# lower max_font_size\n",
    "wordcloud = WordCloud(max_font_size=60,background_color=\"white\").generate(flat_list)\n",
    "fig = plt.figure(figsize=(10,10))\n",
    "plt.imshow(wordcloud, interpolation=\"bilinear\")\n",
    "plt.axis(\"off\")\n",
    "plt.show()\n",
    "fig.savefig('word_cloud.jpg')"
   ]
  },
  {
   "cell_type": "code",
   "execution_count": null,
   "metadata": {
    "collapsed": false,
    "deletable": true,
    "editable": true
   },
   "outputs": [],
   "source": [
    "emoticons = set(range(int('1f600',16), int('1f650', 16)))\n",
    "emojis=''\n",
    "for x in flat_list:\n",
    "    if ord(x) in emoticons:\n",
    "        emojis=emojis+x\n",
    "\n",
    "normal_word = r\"(?:\\w[\\w']+)\"\n",
    "# 2+ consecutive punctuations, e.x. :)\n",
    "ascii_art = r\"(?:[{punctuation}][{punctuation}]+)\".format(punctuation=string.punctuation)\n",
    "# a single character that is not alpha_numeric or other ascii printable\n",
    "emoji = r\"(?:[^\\s])(?<![\\w{ascii_printable}])\".format(ascii_printable=string.printable)\n",
    "regexp = r\"{normal_word}|{ascii_art}|{emoji}\".format(normal_word=normal_word, ascii_art=ascii_art,\n",
    "                                                     emoji=emoji)\n",
    "#emojis\n",
    "# Generate a word cloud image\n",
    "# The Symbola font includes most emoji\n",
    "wordcloud = WordCloud(font_path='Symbola.ttf',background_color=\"white\", regexp=regexp).generate(emojis)\n",
    "fig = plt.figure(figsize=(10,10))\n",
    "# Display the generated image:\n",
    "# the matplotlib way:\n",
    "plt.imshow(wordcloud)\n",
    "plt.title(\"most_common_smileys\")\n",
    "plt.axis(\"off\")\n",
    "plt.savefig('emojis.jpg')\n",
    "plt.show()"
   ]
  },
  {
   "cell_type": "code",
   "execution_count": null,
   "metadata": {
    "collapsed": false,
    "deletable": true,
    "editable": true
   },
   "outputs": [],
   "source": [
    "# for i in chat.sender.unique():\n",
    "#     flat_list ='' \n",
    "#     for item in (chat.loc[(chat['sender'] == str(i)) & (chat.text != '<Media omitted>\\n')]['text']):\n",
    "#         if not isinstance(item,list):\n",
    "#             flat_list=flat_list+item\n",
    "#     allWords = nltk.tokenize.word_tokenize(flat_list)\n",
    "#     allWordDist = nltk.FreqDist(w.lower() for w in allWords)\n",
    "\n",
    "#     stopwords = nltk.corpus.stopwords.words('english')\n",
    "#     allWordDist = nltk.FreqDist(w.lower() for w in allWords if w not in stopwords)  \n",
    "#     mostCommon= allWordDist.most_common(10)\n",
    "#     print(i, mostCommon)"
   ]
  },
  {
   "cell_type": "code",
   "execution_count": null,
   "metadata": {
    "collapsed": false,
    "deletable": true,
    "editable": true
   },
   "outputs": [],
   "source": [
    "fig = plt.figure(figsize=(20,20))\n",
    "cols=5\n",
    "rows= int(len(chat.sender.unique())/5)+1\n",
    "plot_num=1\n",
    "for indx, item in enumerate(chat.sender.unique()):\n",
    "    #print (item)\n",
    "    flat_list ='' \n",
    "    for x in (chat.loc[(chat['sender'] == str(item)) & (chat.text != '<Media omitted>\\n')]['text']):\n",
    "        if not isinstance(x,list):\n",
    "            flat_list=flat_list+x\n",
    "    if len(flat_list)>50:\n",
    "        wordcloud = WordCloud(max_font_size=60,background_color=\"white\").generate(flat_list)\n",
    "        plt.subplot(rows, cols, plot_num)\n",
    "        plot_num=plot_num+1\n",
    "        plt.imshow(wordcloud, interpolation=\"bilinear\")\n",
    "        plt.title(str(item))\n",
    "        plt.axis(\"off\")\n",
    "plt.tight_layout()\n",
    "#plt.title(\"Word_Colud of Members\")\n",
    "plt.savefig(\"all.jpg\")\n",
    "plt.show()\n",
    "#"
   ]
  },
  {
   "cell_type": "code",
   "execution_count": null,
   "metadata": {
    "collapsed": false,
    "deletable": true,
    "editable": true,
    "scrolled": false
   },
   "outputs": [],
   "source": [
    "for indx, item in enumerate(chat.sender.unique()):\n",
    "    df=pd.DataFrame(chat.loc[(chat['sender'] == str(item))].groupby(['Weekday','hour']).size().rename('counts'))\n",
    "    df=df.reset_index()\n",
    "    gridkw = dict(height_ratios=[4, 1])\n",
    "    fig, (ax1, ax2) = plt.subplots(2, 1, gridspec_kw=gridkw,figsize=(20,15)) \n",
    "    #plt.yticks(F6.Weekday, DaysofWeeks)\n",
    "    result = df.pivot(index='Weekday', columns='hour', values='counts')\n",
    "    sns.heatmap(result, annot=True,yticklabels=DaysofWeeks, fmt=\"g\", ax=ax1, cbar_kws={\"orientation\": \"horizontal\"})\n",
    "    ax1.set_title(\"weekly heatmap_\"+str(item))\n",
    "    df=pd.DataFrame(chat.groupby(['hour']).size().rename('counts'))\n",
    "    df=df.reset_index()\n",
    "    #ax2=fig.add_subplot(212)\n",
    "    df.plot(x='hour', y= 'counts',kind='bar',ax=ax2)\n",
    "    plt.tight_layout()\n",
    "    \n",
    "    plt.savefig(\"personalheat/weekly_heat_\"+str(item)+\".jpg\")\n",
    "    plt.show()"
   ]
  },
  {
   "cell_type": "code",
   "execution_count": null,
   "metadata": {
    "collapsed": true,
    "deletable": true,
    "editable": true
   },
   "outputs": [],
   "source": []
  }
 ],
 "metadata": {
  "kernelspec": {
   "display_name": "Python 3",
   "language": "python",
   "name": "python3"
  },
  "language_info": {
   "codemirror_mode": {
    "name": "ipython",
    "version": 3
   },
   "file_extension": ".py",
   "mimetype": "text/x-python",
   "name": "python",
   "nbconvert_exporter": "python",
   "pygments_lexer": "ipython3",
   "version": "3.5.2"
  }
 },
 "nbformat": 4,
 "nbformat_minor": 2
}
